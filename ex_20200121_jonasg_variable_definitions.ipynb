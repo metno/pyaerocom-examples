{
 "cells": [
  {
   "cell_type": "markdown",
   "metadata": {},
   "source": [
    "## Variable names and conventions\n",
    "\n",
    "pyaerocom works with many different data sources with their own naming conventions, both from observation side (e.g. AERONET, EBAS) and from the model data (e.g. AeroCom naming conventions). The general approach is that any data is converted to AeroCom conventions during import, so that the processing routines (e.g. colocation of model with observations) do not require any further translations. "
   ]
  },
  {
   "cell_type": "code",
   "execution_count": 1,
   "metadata": {},
   "outputs": [],
   "source": [
    "import pyaerocom as pya"
   ]
  },
  {
   "cell_type": "markdown",
   "metadata": {},
   "source": [
    "All variables that are supported by pyaerocom are stored in the following file which is distributed with the installation:\n",
    "\n",
    "https://github.com/metno/pyaerocom/blob/master/pyaerocom/data/variables.ini\n",
    "\n",
    "All variables can be accessed via an instance of the `VarCollection` class stored in"
   ]
  },
  {
   "cell_type": "code",
   "execution_count": 3,
   "metadata": {},
   "outputs": [
    {
     "data": {
      "text/plain": [
       "<pyaerocom.variable.VarCollection at 0x7fdf6a8be3d0>"
      ]
     },
     "execution_count": 3,
     "metadata": {},
     "output_type": "execute_result"
    }
   ],
   "source": [
    "pya.const.VARS"
   ]
  },
  {
   "cell_type": "code",
   "execution_count": 4,
   "metadata": {},
   "outputs": [],
   "source": [
    "var_access = pya.const.VARS"
   ]
  },
  {
   "cell_type": "markdown",
   "metadata": {},
   "source": [
    "#### Search for supported sulphur species and load variable representing SO2 emissions"
   ]
  },
  {
   "cell_type": "code",
   "execution_count": 7,
   "metadata": {},
   "outputs": [
    {
     "data": {
      "text/plain": [
       "['emiso2', 'dryso2', 'wetso2', 'vmrso2', 'loadso2']"
      ]
     },
     "execution_count": 7,
     "metadata": {},
     "output_type": "execute_result"
    }
   ],
   "source": [
    "var_access.find('*sulfur*')"
   ]
  },
  {
   "cell_type": "code",
   "execution_count": 9,
   "metadata": {},
   "outputs": [
    {
     "data": {
      "text/plain": [
       "emiso2\n",
       "standard_name: tendency_of_atmosphere_mass_content_of_sulfur_dioxide_due_to_emission; Unit: kg m-2 s-1"
      ]
     },
     "execution_count": 9,
     "metadata": {},
     "output_type": "execute_result"
    }
   ],
   "source": [
    "emiso2 = var_access['emiso2']\n",
    "emiso2"
   ]
  },
  {
   "cell_type": "code",
   "execution_count": 10,
   "metadata": {},
   "outputs": [
    {
     "name": "stdout",
     "output_type": "stream",
     "text": [
      "\n",
      "Pyaerocom Variable\n",
      "------------------\n",
      "_var_name_input: emiso2\n",
      "is_3d: False\n",
      "is_dry: False\n",
      "var_name: emiso2\n",
      "var_name_alt: None\n",
      "standard_name: tendency_of_atmosphere_mass_content_of_sulfur_dioxide_due_to_emission\n",
      "units: kg m-2 s-1\n",
      "default_vert_code: None\n",
      "wavelength_nm: None\n",
      "dry_rh_max: 40.0\n",
      "dimensions (list, 3 items)\n",
      "list (3 items): ['time', 'lat', 'lon']\n",
      "minimum: 0.0\n",
      "maximum: 10000.0\n",
      "description: Total emission of SO2\n",
      "comments_and_purpose: SO2 emissions also requested 3D. Sulfur emissions as SO4 reported in emiso4.\n",
      "obs_wavelength_tol_nm: 10.0\n",
      "Plotting settings\n",
      "......................\n",
      "scat_loglog: True\n",
      "scat_scale_factor: 1.0\n",
      "map_c_over: r\n"
     ]
    }
   ],
   "source": [
    "print(emiso2)"
   ]
  },
  {
   "cell_type": "markdown",
   "metadata": {},
   "source": [
    "#### Find variable name for sea salt AOD and load"
   ]
  },
  {
   "cell_type": "code",
   "execution_count": 24,
   "metadata": {},
   "outputs": [
    {
     "data": {
      "text/plain": [
       "['od550ss', 'abs550ss']"
      ]
     },
     "execution_count": 24,
     "metadata": {},
     "output_type": "execute_result"
    }
   ],
   "source": [
    "var_access.find('*optical*thickness*sea*salt*')"
   ]
  },
  {
   "cell_type": "code",
   "execution_count": 25,
   "metadata": {},
   "outputs": [
    {
     "data": {
      "text/plain": [
       "od550ss\n",
       "standard_name: atmosphere_optical_thickness_due_to_seasalt_ambient_aerosol_particles; Unit: 1"
      ]
     },
     "execution_count": 25,
     "metadata": {},
     "output_type": "execute_result"
    }
   ],
   "source": [
    "var_access['od550ss']"
   ]
  }
 ],
 "metadata": {
  "kernelspec": {
   "display_name": "Python 3",
   "language": "python",
   "name": "python3"
  },
  "language_info": {
   "codemirror_mode": {
    "name": "ipython",
    "version": 3
   },
   "file_extension": ".py",
   "mimetype": "text/x-python",
   "name": "python",
   "nbconvert_exporter": "python",
   "pygments_lexer": "ipython3",
   "version": "3.7.6"
  }
 },
 "nbformat": 4,
 "nbformat_minor": 4
}
