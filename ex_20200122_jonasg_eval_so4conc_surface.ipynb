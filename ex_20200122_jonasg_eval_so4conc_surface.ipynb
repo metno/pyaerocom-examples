{
 "cells": [
  {
   "cell_type": "markdown",
   "metadata": {},
   "source": [
    "## Example illustrating evaluation of modelled surface SO4 concentrations vs. EBAS measurements"
   ]
  },
  {
   "cell_type": "code",
   "execution_count": 1,
   "metadata": {},
   "outputs": [
    {
     "data": {
      "text/plain": [
       "True"
      ]
     },
     "execution_count": 1,
     "metadata": {},
     "output_type": "execute_result"
    }
   ],
   "source": [
    "import pyaerocom as pya\n",
    "pya.const.has_access_lustre"
   ]
  },
  {
   "cell_type": "code",
   "execution_count": 2,
   "metadata": {},
   "outputs": [],
   "source": [
    "model_id='NorESM2-met2010_AP3-CTRL'\n",
    "obs_id = 'EBASMC'"
   ]
  },
  {
   "cell_type": "code",
   "execution_count": 3,
   "metadata": {},
   "outputs": [
    {
     "name": "stderr",
     "output_type": "stream",
     "text": [
      "Retrieving EBAS files for variables\n",
      "['concso4']\n",
      "Reading files 1-510 of 5095 (ReadEbas) | 09:10:10 (delta = 0 s')\n",
      "Reading files 510-1019 of 5095 (ReadEbas) | 09:10:58 (delta = 48 s')\n",
      "Reading files 1019-1528 of 5095 (ReadEbas) | 09:11:41 (delta = 42 s')\n",
      "Reading files 1528-2037 of 5095 (ReadEbas) | 09:12:20 (delta = 39 s')\n",
      "Reading files 2037-2546 of 5095 (ReadEbas) | 09:13:04 (delta = 43 s')\n",
      "Reading files 2546-3055 of 5095 (ReadEbas) | 09:14:16 (delta = 72 s')\n",
      "Reading files 3055-3564 of 5095 (ReadEbas) | 09:14:54 (delta = 38 s')\n",
      "Skipping reading of EBAS NASA Ames file: /lustre/storeA/project/aerocom/aerocom1/AEROCOM_OBSDATA/EBASMultiColumn/data/data/NO0726R.19870201070000.20181210133000.filter_2pack...11mo.1d.NO01L_f2p_2d_0726.NO01L_IC.lev2.nas. Reason: KeyError('station_latitude')\n",
      "Reading files 3564-4073 of 5095 (ReadEbas) | 09:15:24 (delta = 30 s')\n",
      "Reading files 4073-4582 of 5095 (ReadEbas) | 09:15:57 (delta = 32 s')\n",
      "Reading files 4582-5091 of 5095 (ReadEbas) | 09:16:28 (delta = 31 s')\n",
      "Reading files 5091-5600 of 5095 (ReadEbas) | 09:17:01 (delta = 32 s')\n"
     ]
    }
   ],
   "source": [
    "obsdata = pya.io.ReadUngridded().read(obs_id, 'concso4')"
   ]
  },
  {
   "cell_type": "code",
   "execution_count": null,
   "metadata": {},
   "outputs": [],
   "source": []
  }
 ],
 "metadata": {
  "kernelspec": {
   "display_name": "Python 3",
   "language": "python",
   "name": "python3"
  },
  "language_info": {
   "codemirror_mode": {
    "name": "ipython",
    "version": 3
   },
   "file_extension": ".py",
   "mimetype": "text/x-python",
   "name": "python",
   "nbconvert_exporter": "python",
   "pygments_lexer": "ipython3",
   "version": "3.7.6"
  }
 },
 "nbformat": 4,
 "nbformat_minor": 4
}
