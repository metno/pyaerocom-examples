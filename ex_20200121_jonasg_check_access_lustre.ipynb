{
 "cells": [
  {
   "cell_type": "markdown",
   "metadata": {},
   "source": [
    "## Short example importing pyaerocom and checking if lustre environment can be accessed"
   ]
  },
  {
   "cell_type": "code",
   "execution_count": 1,
   "metadata": {},
   "outputs": [
    {
     "data": {
      "text/plain": [
       "True"
      ]
     },
     "execution_count": 1,
     "metadata": {},
     "output_type": "execute_result"
    }
   ],
   "source": [
    "import pyaerocom as pya\n",
    "\n",
    "pya.const.has_access_lustre"
   ]
  },
  {
   "cell_type": "markdown",
   "metadata": {},
   "source": [
    "If this returns False, then you do not have access to the data on lustre (both model and observation data). If you work on lustre directly (i.e. if you have pyaerocom installed there), this should always be true. If you work locally, you have to mount lustre to a certain location on your computer and update the pyaerocom base directory. [See here](https://linuxize.com/post/how-to-use-sshfs-to-mount-remote-directories-over-ssh/) for an example how to mount a  remote directory using sshfs command.\n",
    "\n",
    "Let's say, lustre is mounted at root:\n",
    "\n",
    "```\n",
    "/lustre/\n",
    "```"
   ]
  },
  {
   "cell_type": "code",
   "execution_count": 2,
   "metadata": {},
   "outputs": [
    {
     "name": "stderr",
     "output_type": "stream",
     "text": [
      "Failed to infer path environment for input dir /lustre/storeA. No search paths will be added\n"
     ]
    }
   ],
   "source": [
    "pya.const.BASEDIR = '/lustre/storeA/'"
   ]
  },
  {
   "cell_type": "markdown",
   "metadata": {},
   "source": [
    "### Where is pyaerocom looking for data?"
   ]
  },
  {
   "cell_type": "markdown",
   "metadata": {},
   "source": [
    "#### Observation data\n",
    "\n",
    "Registered (ungridded) observation data paths can be accessed via:"
   ]
  },
  {
   "cell_type": "code",
   "execution_count": 3,
   "metadata": {},
   "outputs": [
    {
     "data": {
      "text/plain": [
       "['/lustre/storeA/project/aerocom/',\n",
       " '/lustre/storeA/project/aerocom/aerocom1/AEROCOM_OBSDATA/AeronetSunNRT',\n",
       " '/lustre/storeA/project/aerocom/aerocom1/AEROCOM_OBSDATA/AeronetRaw2.0/renamed',\n",
       " '/lustre/storeA/project/aerocom/aerocom1/AEROCOM_OBSDATA/AeronetSun2.0AllPoints/renamed',\n",
       " '/lustre/storeA/project/aerocom/aerocom1/AEROCOM_OBSDATA/AeronetSun2.0.SDA.daily/renamed',\n",
       " '/lustre/storeA/project/aerocom/aerocom1/AEROCOM_OBSDATA/AeronetSun2.0.SDA.AP/renamed',\n",
       " '/lustre/storeA/project/aerocom/aerocom1/AEROCOM_OBSDATA/Aeronet.Inv.V2L1.5.daily/renamed',\n",
       " '/lustre/storeA/project/aerocom/aerocom1/AEROCOM_OBSDATA/',\n",
       " '/lustre/storeA/project/aerocom/aerocom1/AEROCOM_OBSDATA/Aeronet.Inv.V2L2.0.daily/renamed',\n",
       " '/lustre/storeA/project/aerocom/aerocom1/AEROCOM_OBSDATA/',\n",
       " '/lustre/storeA/project/aerocom/aerocom1/AEROCOM_OBSDATA/AeronetSunV3Lev1.5.daily/renamed',\n",
       " '/lustre/storeA/project/aerocom/aerocom1/AEROCOM_OBSDATA/AeronetSunV3Lev1.5.AP/renamed',\n",
       " '/lustre/storeA/project/aerocom/aerocom1/AEROCOM_OBSDATA/AeronetSunV3Lev2.0.daily/renamed',\n",
       " '/lustre/storeA/project/aerocom/aerocom1/AEROCOM_OBSDATA/AeronetSunV3Lev2.0.AP/renamed',\n",
       " '/lustre/storeA/project/aerocom/aerocom1/AEROCOM_OBSDATA/Aeronet.SDA.V3L1.5.daily/renamed',\n",
       " '/lustre/storeA/project/aerocom/aerocom1/AEROCOM_OBSDATA/',\n",
       " '/lustre/storeA/project/aerocom/aerocom1/AEROCOM_OBSDATA/Aeronet.SDA.V3L2.0.daily/renamed',\n",
       " '/lustre/storeA/project/aerocom/aerocom1/AEROCOM_OBSDATA/',\n",
       " '/lustre/storeA/project/aerocom/aerocom1/AEROCOM_OBSDATA/Aeronet.Inv.V3L1.5.daily/renamed',\n",
       " '/lustre/storeA/project/aerocom/aerocom1/AEROCOM_OBSDATA/Aeronet.Inv.V3L2.0.daily/renamed',\n",
       " '/lustre/storeA/project/aerocom/aerocom1/AEROCOM_OBSDATA/EBASMultiColumn/data',\n",
       " '/lustre/storeA/project/aerocom/aerocom1/AEROCOM_OBSDATA/EEA_AQeRep/renamed',\n",
       " '/lustre/storeA/project/aerocom/aerocom1/AEROCOM_OBSDATA/Export/Earlinet/CAMS/data',\n",
       " '/lustre/storeA/project/aerocom/aerocom1/AEROCOM_OBSDATA/PYAEROCOM/GAWTADSulphurSubset/data',\n",
       " '/lustre/storeA/project/aerocom/aerocom1/AEROCOM_OBSDATA/PYAEROCOM/DMS_AMS_CVO/data']"
      ]
     },
     "execution_count": 3,
     "metadata": {},
     "output_type": "execute_result"
    }
   ],
   "source": [
    "pya.const.OBSDIRS"
   ]
  },
  {
   "cell_type": "markdown",
   "metadata": {},
   "source": [
    "### Model data"
   ]
  },
  {
   "cell_type": "markdown",
   "metadata": {},
   "source": [
    "All directories where pyaerocom is looking for model data (gridded data, e.g. NetCDF files):"
   ]
  },
  {
   "cell_type": "code",
   "execution_count": 4,
   "metadata": {},
   "outputs": [
    {
     "data": {
      "text/plain": [
       "['/lustre/storeA/project/aerocom/aerocom1/',\n",
       " '/lustre/storeA/project/aerocom/aerocom2/',\n",
       " '/lustre/storeA/project/aerocom/aerocom-users-database/CMIP6',\n",
       " '/lustre/storeA/project/aerocom/aerocom-users-database/C3S-Aerosol',\n",
       " '/lustre/storeA/project/aerocom/aerocom-users-database/ECLIPSE',\n",
       " '/lustre/storeA/project/aerocom/aerocom-users-database/SATELLITE-DATA/',\n",
       " '/lustre/storeA/project/aerocom/aerocom-users-database/CCI-Aerosol/CCI_AEROSOL_Phase2/',\n",
       " '/lustre/storeA/project/aerocom/aerocom-users-database/ACCMIP/',\n",
       " '/lustre/storeA/project/aerocom/aerocom-users-database/ECMWF/',\n",
       " '/lustre/storeA/project/aerocom/aerocom2/EMEP_COPERNICUS/',\n",
       " '/lustre/storeA/project/aerocom/aerocom2/EMEP/',\n",
       " '/lustre/storeA/project/aerocom/aerocom2/EMEP_GLOBAL/',\n",
       " '/lustre/storeA/project/aerocom/aerocom2/EMEP_SVN_TEST/',\n",
       " '/lustre/storeA/project/aerocom/aerocom2/NorESM_SVN_TEST/',\n",
       " '/lustre/storeA/project/aerocom/aerocom2/INCA/',\n",
       " '/lustre/storeA/project/aerocom/aerocom-users-database/HTAP-PHASE-I/',\n",
       " '/lustre/storeA/project/aerocom/aerocom-users-database/HTAP-PHASE-II/',\n",
       " '/lustre/storeA/project/aerocom/aerocom-users-database/AEROCOM-PHASE-I/',\n",
       " '/lustre/storeA/project/aerocom/aerocom-users-database/AEROCOM-PHASE-II/',\n",
       " '/lustre/storeA/project/aerocom/aerocom-users-database/AEROCOM-PHASE-III/',\n",
       " '/lustre/storeA/project/aerocom/aerocom-users-database/AEROCOM-PHASE-III-2019/',\n",
       " '/lustre/storeA/project/aerocom/aerocom-users-database/AEROCOM-PHASE-III-Trend/',\n",
       " '/lustre/storeA/project/aerocom/aerocom-users-database/CCI-Aerosol/CCI_AEROSOL_Phase1/',\n",
       " '/lustre/storeA/project/aerocom/aerocom-users-database/AEROCOM-PHASE-II-IND3/',\n",
       " '/lustre/storeA/project/aerocom/aerocom-users-database/AEROCOM-PHASE-II-IND2/']"
      ]
     },
     "execution_count": 4,
     "metadata": {},
     "output_type": "execute_result"
    }
   ],
   "source": [
    "pya.const.MODELDIRS"
   ]
  },
  {
   "cell_type": "markdown",
   "metadata": {},
   "source": [
    "### Searching for data\n",
    "\n",
    "Data can be searched using the ``browse_database`` function, which does nothing else than searching the above directories for matches."
   ]
  },
  {
   "cell_type": "code",
   "execution_count": 5,
   "metadata": {},
   "outputs": [
    {
     "ename": "NameError",
     "evalue": "name 'logger' is not defined",
     "output_type": "error",
     "traceback": [
      "\u001b[0;31m---------------------------------------------------------------------------\u001b[0m",
      "\u001b[0;31mNameError\u001b[0m                                 Traceback (most recent call last)",
      "\u001b[0;32m<ipython-input-5-2688d5a08eab>\u001b[0m in \u001b[0;36m<module>\u001b[0;34m\u001b[0m\n\u001b[0;32m----> 1\u001b[0;31m \u001b[0mpya\u001b[0m\u001b[0;34m.\u001b[0m\u001b[0mbrowse_database\u001b[0m\u001b[0;34m(\u001b[0m\u001b[0;34m'AeronetSunV3*'\u001b[0m\u001b[0;34m)\u001b[0m\u001b[0;34m\u001b[0m\u001b[0;34m\u001b[0m\u001b[0m\n\u001b[0m",
      "\u001b[0;32m~/github/pya/pyaerocom/pyaerocom/io/utils.py\u001b[0m in \u001b[0;36mbrowse_database\u001b[0;34m(model_or_obs, verbose)\u001b[0m\n\u001b[1;32m     36\u001b[0m     \"\"\"\n\u001b[1;32m     37\u001b[0m     \u001b[0;32mif\u001b[0m \u001b[0;32mnot\u001b[0m \u001b[0mverbose\u001b[0m\u001b[0;34m:\u001b[0m\u001b[0;34m\u001b[0m\u001b[0;34m\u001b[0m\u001b[0m\n\u001b[0;32m---> 38\u001b[0;31m         \u001b[0mchange_verbosity\u001b[0m\u001b[0;34m(\u001b[0m\u001b[0;34m'critical'\u001b[0m\u001b[0;34m)\u001b[0m\u001b[0;34m\u001b[0m\u001b[0;34m\u001b[0m\u001b[0m\n\u001b[0m\u001b[1;32m     39\u001b[0m     \u001b[0;32melse\u001b[0m\u001b[0;34m:\u001b[0m\u001b[0;34m\u001b[0m\u001b[0;34m\u001b[0m\u001b[0m\n\u001b[1;32m     40\u001b[0m         \u001b[0mchange_verbosity\u001b[0m\u001b[0;34m(\u001b[0m\u001b[0;34m'debug'\u001b[0m\u001b[0;34m)\u001b[0m\u001b[0;34m\u001b[0m\u001b[0;34m\u001b[0m\u001b[0m\n",
      "\u001b[0;32m~/github/pya/pyaerocom/pyaerocom/_init_helpers.py\u001b[0m in \u001b[0;36mchange_verbosity\u001b[0;34m(new_level, log)\u001b[0m\n\u001b[1;32m     29\u001b[0m \u001b[0;32mdef\u001b[0m \u001b[0mchange_verbosity\u001b[0m\u001b[0;34m(\u001b[0m\u001b[0mnew_level\u001b[0m\u001b[0;34m=\u001b[0m\u001b[0;34m'debug'\u001b[0m\u001b[0;34m,\u001b[0m \u001b[0mlog\u001b[0m\u001b[0;34m=\u001b[0m\u001b[0;32mNone\u001b[0m\u001b[0;34m)\u001b[0m\u001b[0;34m:\u001b[0m\u001b[0;34m\u001b[0m\u001b[0;34m\u001b[0m\u001b[0m\n\u001b[1;32m     30\u001b[0m     \u001b[0;32mif\u001b[0m \u001b[0mlog\u001b[0m \u001b[0;32mis\u001b[0m \u001b[0;32mNone\u001b[0m\u001b[0;34m:\u001b[0m\u001b[0;34m\u001b[0m\u001b[0;34m\u001b[0m\u001b[0m\n\u001b[0;32m---> 31\u001b[0;31m         \u001b[0mlog\u001b[0m \u001b[0;34m=\u001b[0m \u001b[0mlogger\u001b[0m\u001b[0;34m\u001b[0m\u001b[0;34m\u001b[0m\u001b[0m\n\u001b[0m\u001b[1;32m     32\u001b[0m     \u001b[0;32mif\u001b[0m \u001b[0misinstance\u001b[0m\u001b[0;34m(\u001b[0m\u001b[0mnew_level\u001b[0m\u001b[0;34m,\u001b[0m \u001b[0mstr\u001b[0m\u001b[0;34m)\u001b[0m\u001b[0;34m:\u001b[0m\u001b[0;34m\u001b[0m\u001b[0;34m\u001b[0m\u001b[0m\n\u001b[1;32m     33\u001b[0m         \u001b[0;32mif\u001b[0m \u001b[0;32mnot\u001b[0m \u001b[0mnew_level\u001b[0m \u001b[0;32min\u001b[0m \u001b[0mLOGLEVELS\u001b[0m\u001b[0;34m:\u001b[0m\u001b[0;34m\u001b[0m\u001b[0;34m\u001b[0m\u001b[0m\n",
      "\u001b[0;31mNameError\u001b[0m: name 'logger' is not defined"
     ]
    }
   ],
   "source": [
    "pya.browse_database('AeronetSunV3*')"
   ]
  },
  {
   "cell_type": "code",
   "execution_count": null,
   "metadata": {},
   "outputs": [],
   "source": [
    "pya.browse_database('EMEP*v4*')"
   ]
  }
 ],
 "metadata": {
  "kernelspec": {
   "display_name": "Python 3",
   "language": "python",
   "name": "python3"
  },
  "language_info": {
   "codemirror_mode": {
    "name": "ipython",
    "version": 3
   },
   "file_extension": ".py",
   "mimetype": "text/x-python",
   "name": "python",
   "nbconvert_exporter": "python",
   "pygments_lexer": "ipython3",
   "version": "3.7.6"
  }
 },
 "nbformat": 4,
 "nbformat_minor": 4
}
