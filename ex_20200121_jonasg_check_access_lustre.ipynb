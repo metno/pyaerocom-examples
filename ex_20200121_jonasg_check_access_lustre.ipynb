{
 "cells": [
  {
   "cell_type": "markdown",
   "metadata": {},
   "source": [
    "## Short example importing pyaerocom and checking if lustre environment can be accessed"
   ]
  },
  {
   "cell_type": "code",
   "execution_count": 1,
   "metadata": {},
   "outputs": [
    {
     "data": {
      "text/plain": [
       "True"
      ]
     },
     "execution_count": 1,
     "metadata": {},
     "output_type": "execute_result"
    }
   ],
   "source": [
    "import pyaerocom as pya\n",
    "\n",
    "pya.const.has_access_lustre"
   ]
  },
  {
   "cell_type": "markdown",
   "metadata": {},
   "source": [
    "If this returns False, then you do not have access to the data on lustre (both model and observation data). If you work on lustre directly (i.e. if you have pyaerocom installed there), this should always be true. If you work locally, you have to mount lustre to a certain location on your computer and update the pyaerocom base directory. [See here](https://linuxize.com/post/how-to-use-sshfs-to-mount-remote-directories-over-ssh/) for an example how to mount a  remote directory using sshfs command.\n",
    "\n",
    "Let's say, lustre is mounted at root:\n",
    "\n",
    "```\n",
    "/lustre/\n",
    "```"
   ]
  },
  {
   "cell_type": "code",
   "execution_count": 2,
   "metadata": {},
   "outputs": [
    {
     "name": "stderr",
     "output_type": "stream",
     "text": [
      "Failed to infer path environment for input dir /lustre/storeA. No search paths will be added\n"
     ]
    }
   ],
   "source": [
    "pya.const.BASEDIR = '/lustre/storeA/'"
   ]
  },
  {
   "cell_type": "markdown",
   "metadata": {},
   "source": [
    "### Where is pyaerocom looking for data?"
   ]
  },
  {
   "cell_type": "markdown",
   "metadata": {},
   "source": [
    "#### Observation data\n",
    "\n",
    "Registered (ungridded) observation data paths can be accessed via:"
   ]
  },
  {
   "cell_type": "code",
   "execution_count": 3,
   "metadata": {},
   "outputs": [
    {
     "data": {
      "text/plain": [
       "['/lustre/storeA/project/aerocom/',\n",
       " '/lustre/storeA/project/aerocom/aerocom1/AEROCOM_OBSDATA/AeronetSunNRT',\n",
       " '/lustre/storeA/project/aerocom/aerocom1/AEROCOM_OBSDATA/AeronetRaw2.0/renamed',\n",
       " '/lustre/storeA/project/aerocom/aerocom1/AEROCOM_OBSDATA/AeronetSun2.0AllPoints/renamed',\n",
       " '/lustre/storeA/project/aerocom/aerocom1/AEROCOM_OBSDATA/AeronetSun2.0.SDA.daily/renamed',\n",
       " '/lustre/storeA/project/aerocom/aerocom1/AEROCOM_OBSDATA/AeronetSun2.0.SDA.AP/renamed',\n",
       " '/lustre/storeA/project/aerocom/aerocom1/AEROCOM_OBSDATA/Aeronet.Inv.V2L1.5.daily/renamed',\n",
       " '/lustre/storeA/project/aerocom/aerocom1/AEROCOM_OBSDATA/',\n",
       " '/lustre/storeA/project/aerocom/aerocom1/AEROCOM_OBSDATA/Aeronet.Inv.V2L2.0.daily/renamed',\n",
       " '/lustre/storeA/project/aerocom/aerocom1/AEROCOM_OBSDATA/',\n",
       " '/lustre/storeA/project/aerocom/aerocom1/AEROCOM_OBSDATA/AeronetSunV3Lev1.5.daily/renamed',\n",
       " '/lustre/storeA/project/aerocom/aerocom1/AEROCOM_OBSDATA/AeronetSunV3Lev1.5.AP/renamed',\n",
       " '/lustre/storeA/project/aerocom/aerocom1/AEROCOM_OBSDATA/AeronetSunV3Lev2.0.daily/renamed',\n",
       " '/lustre/storeA/project/aerocom/aerocom1/AEROCOM_OBSDATA/AeronetSunV3Lev2.0.AP/renamed',\n",
       " '/lustre/storeA/project/aerocom/aerocom1/AEROCOM_OBSDATA/Aeronet.SDA.V3L1.5.daily/renamed',\n",
       " '/lustre/storeA/project/aerocom/aerocom1/AEROCOM_OBSDATA/',\n",
       " '/lustre/storeA/project/aerocom/aerocom1/AEROCOM_OBSDATA/Aeronet.SDA.V3L2.0.daily/renamed',\n",
       " '/lustre/storeA/project/aerocom/aerocom1/AEROCOM_OBSDATA/',\n",
       " '/lustre/storeA/project/aerocom/aerocom1/AEROCOM_OBSDATA/Aeronet.Inv.V3L1.5.daily/renamed',\n",
       " '/lustre/storeA/project/aerocom/aerocom1/AEROCOM_OBSDATA/Aeronet.Inv.V3L2.0.daily/renamed',\n",
       " '/lustre/storeA/project/aerocom/aerocom1/AEROCOM_OBSDATA/EBASMultiColumn/data',\n",
       " '/lustre/storeA/project/aerocom/aerocom1/AEROCOM_OBSDATA/EEA_AQeRep/renamed',\n",
       " '/lustre/storeA/project/aerocom/aerocom1/AEROCOM_OBSDATA/Export/Earlinet/CAMS/data',\n",
       " '/lustre/storeA/project/aerocom/aerocom1//AEROCOM_OBSDATA/PYAEROCOM/GAWTADSulphurSubset/data',\n",
       " '/lustre/storeA/project/aerocom/aerocom1/AEROCOM_OBSDATA/PYAEROCOM/DMS_AMS_CVO/data']"
      ]
     },
     "execution_count": 3,
     "metadata": {},
     "output_type": "execute_result"
    }
   ],
   "source": [
    "pya.const.OBSDIRS"
   ]
  },
  {
   "cell_type": "markdown",
   "metadata": {},
   "source": [
    "### Model data"
   ]
  },
  {
   "cell_type": "markdown",
   "metadata": {},
   "source": [
    "All directories where pyaerocom is looking for model data (gridded data, e.g. NetCDF files):"
   ]
  },
  {
   "cell_type": "code",
   "execution_count": 4,
   "metadata": {},
   "outputs": [
    {
     "data": {
      "text/plain": [
       "['/lustre/storeA/project/aerocom/aerocom1/',\n",
       " '/lustre/storeA/project/aerocom/aerocom2/',\n",
       " '/lustre/storeA/project/aerocom/aerocom-users-database/CMIP6',\n",
       " '/lustre/storeA/project/aerocom/aerocom-users-database/C3S-Aerosol',\n",
       " '/lustre/storeA/project/aerocom/aerocom-users-database/ECLIPSE',\n",
       " '/lustre/storeA/project/aerocom/aerocom-users-database/SATELLITE-DATA/',\n",
       " '/lustre/storeA/project/aerocom/aerocom-users-database/CCI-Aerosol/CCI_AEROSOL_Phase2/',\n",
       " '/lustre/storeA/project/aerocom/aerocom-users-database/ACCMIP/',\n",
       " '/lustre/storeA/project/aerocom/aerocom-users-database/ECMWF/',\n",
       " '/lustre/storeA/project/aerocom/aerocom2/EMEP_COPERNICUS/',\n",
       " '/lustre/storeA/project/aerocom/aerocom2/EMEP/',\n",
       " '/lustre/storeA/project/aerocom/aerocom2/EMEP_GLOBAL/',\n",
       " '/lustre/storeA/project/aerocom/aerocom2/EMEP_SVN_TEST/',\n",
       " '/lustre/storeA/project/aerocom/aerocom2/NorESM_SVN_TEST/',\n",
       " '/lustre/storeA/project/aerocom/aerocom2/INCA/',\n",
       " '/lustre/storeA/project/aerocom/aerocom-users-database/HTAP-PHASE-I/',\n",
       " '/lustre/storeA/project/aerocom/aerocom-users-database/HTAP-PHASE-II/',\n",
       " '/lustre/storeA/project/aerocom/aerocom-users-database/AEROCOM-PHASE-I/',\n",
       " '/lustre/storeA/project/aerocom/aerocom-users-database/AEROCOM-PHASE-II/',\n",
       " '/lustre/storeA/project/aerocom/aerocom-users-database/AEROCOM-PHASE-III/',\n",
       " '/lustre/storeA/project/aerocom/aerocom-users-database/AEROCOM-PHASE-III-2019/',\n",
       " '/lustre/storeA/project/aerocom/aerocom-users-database/AEROCOM-PHASE-III-Trend/',\n",
       " '/lustre/storeA/project/aerocom/aerocom-users-database/CCI-Aerosol/CCI_AEROSOL_Phase1/',\n",
       " '/lustre/storeA/project/aerocom/aerocom-users-database/AEROCOM-PHASE-II-IND3/',\n",
       " '/lustre/storeA/project/aerocom/aerocom-users-database/AEROCOM-PHASE-II-IND2/']"
      ]
     },
     "execution_count": 4,
     "metadata": {},
     "output_type": "execute_result"
    }
   ],
   "source": [
    "pya.const.MODELDIRS"
   ]
  },
  {
   "cell_type": "markdown",
   "metadata": {},
   "source": [
    "### Searching for data\n",
    "\n",
    "Data can be searched using the ``browse_database`` function, which does nothing else than searching the above directories for matches."
   ]
  },
  {
   "cell_type": "code",
   "execution_count": 7,
   "metadata": {},
   "outputs": [
    {
     "name": "stdout",
     "output_type": "stream",
     "text": [
      "\n",
      "Dataset name: AeronetSunV3Lev1.5.daily\n",
      "Data directory: /lustre/storeA/project/aerocom/aerocom1/AEROCOM_OBSDATA/AeronetSunV3Lev1.5.daily/renamed\n",
      "Supported variables: ['od340aer', 'od440aer', 'od500aer', 'od870aer', 'ang4487aer', 'ang4487aer_calc', 'od550aer']\n",
      "Last revision: 20190920\n",
      "\n",
      "Dataset name: AeronetSunV3Lev1.5.AP\n",
      "Data directory: /lustre/storeA/project/aerocom/aerocom1/AEROCOM_OBSDATA/AeronetSunV3Lev1.5.AP/renamed\n",
      "Supported variables: ['od340aer', 'od440aer', 'od500aer', 'od870aer', 'ang4487aer', 'ang4487aer_calc', 'od550aer']\n",
      "Last revision: 20190511\n",
      "\n",
      "Dataset name: AeronetSunV3Lev2.daily\n",
      "Data directory: /lustre/storeA/project/aerocom/aerocom1/AEROCOM_OBSDATA/AeronetSunV3Lev2.0.daily/renamed\n",
      "Supported variables: ['od340aer', 'od440aer', 'od500aer', 'od870aer', 'ang4487aer', 'ang4487aer_calc', 'od550aer']\n",
      "Last revision: 20190920\n",
      "\n",
      "Dataset name: AeronetSunV3Lev2.AP\n",
      "Data directory: /lustre/storeA/project/aerocom/aerocom1/AEROCOM_OBSDATA/AeronetSunV3Lev2.0.AP/renamed\n",
      "Supported variables: ['od340aer', 'od440aer', 'od500aer', 'od870aer', 'ang4487aer', 'ang4487aer_calc', 'od550aer']\n",
      "Last revision: 20190511\n"
     ]
    }
   ],
   "source": [
    "pya.browse_database('AeronetSunV3*')"
   ]
  },
  {
   "cell_type": "code",
   "execution_count": 10,
   "metadata": {},
   "outputs": [
    {
     "name": "stdout",
     "output_type": "stream",
     "text": [
      "Found more than 20 matches for input pattern EMEP*v4*:\n",
      "\n",
      "Matches: ['EMEP_rv4.1.1.T2.1_ctl', 'EMEP_rv4beta22.CWF-REVA.2010-d1', 'EMEP_rv4_4_1.CWF-REVA_12UTC.2011', 'EMEP_rv4_5.CWF-REVA.2012', 'EMEP_rv4_4_1.CWF-REVA-AN.2011_NoLim', 'EMEP_rv4_4_1.CWF-REVA-AN.2011', 'EMEP_rv4_4_1.CWF-REVA-AN.2011_OMI', 'EMEP_rv4_5.CWF-REVA_test.2012', 'EMEP_rv4_4_1.CWF-REVA.2011_noVol', 'EMEP_rv4beta22.CWF-REVA.2010-d0', 'EMEP_rv4_5.CWF_00AN-REVA.2012', 'EMEP_rv4_4_1.CWF-REVA-AN.2011_NO2', 'EMEP_rv4_5.CWF-REVA_INT.2012', 'EMEP_rv4_4_1.CWF-REVA-AN.2011_SRF', 'EMEP_rv4_4_1.CWF-REVA.2011', 'EMEP_rv4_2599_Rep2013trend.1x1', 'EMEP_TSAP_rv4_14km', 'EMEP_rv4beta14_6hBC-Airbase', 'EMEP_rv4beta14_Rep2012', 'EMEP_rv4beta14_6hBC', 'EMEP_rv4beta14_EMEPrep2012', 'EMEP_rv4_5.2809_Rep2014', 'EMEP_TSAP_rv4_28km', 'EMEP_rv4beta14_MonBC', 'EMEP_rv4beta14', 'EMEP_rv4_2645_I2C_2000hist', 'EMEP_rv4beta14_MonBC-Airbase', 'EMEP_rv4_2982', 'EMEP_rv4-Airbase', 'EMEP_rv4beta14_EMEPemis2000rep2012', 'EMEP_rv4', 'EMEP_TSAP_rv4_56km', 'EMEP_rv4_2599_Rep2013', 'EMEP_rv4_2599_Rep2013emistrend', 'EMEP_rv4beta14_regionalJEJ', 'EMEP_rv4beta14_Rep2012_y2000', 'EMEP_rv4_3245', 'EMEP_rv4_2599_Rep2013trend', 'EMEP_rv4_2599_Rep2013trend.EECCA', 'EMEP_rv4_17_EECCAo3', 'EMEP_rv4_2645_I2C_2000hind', 'EMEP_rv4_3_beta2513', 'EMEP_rv4_2599_Glob_Rep2013_2008', 'EMEP_rv4beta14_Global', 'EMEP_rv4_2697_GlobEclipse', 'EMEP_rv4_2599_GlobHTAPv1', 'EMEP_rv4_GlobAOD_noConv', 'EMEP_rv4_5_Glob_Rep2014', 'EMEP_rv4.1.1_GlobAOD_test2', 'EMEP_rv4_GlobAOD', 'EMEP_rv4_2697_GlobHTAPv2', 'EMEP_rv4_2697_Glob', 'EMEP_rv4.1.1_GlobAOD', 'EMEP_rv4.1.1.eclipse', 'EMEP_rv4beta14_Global-Airbase', 'EMEP01_rv4.9_tno-emep', 'EMEP_svnrv4.15_170606DS_RGrv4.5', 'EMEP_svnrv4.13dY_170606DS_GLrv4.13dY', 'EMEP_svnrv4-16BD2a_180128DS_RGBD2a', 'EMEP01_rv4.9_JRC', 'EMEP_rv4.10os_171006AV_RGEECCAopenNoFF', 'EMEP_svnrv4p16feb14_180215DS_RGrv4p16feb14', 'EMEP_rv4.8os_171006AV_RGEECCAopenNoFF', 'EMEP_rv4.15os_171006AV_RGEMEP01openNoFF', 'EMEP_svnrv4p16feb14no2_180215DS_RGrv4p16feb14no2', 'EMEP_svnrv4-16DB2c_180130DS_RGBiDirCAMS50', 'EMEP_TEST_rv4_14.2014.griesie', 'EMEP_rv4.8_170526AV_RGbmOpenSource', 'EMEP_svnrv4-16BD2a_180128DS_RGBD2aoff', 'EMEP_TEST_rv4_14.2017.ReportingTest', 'EMEP_rv4.15os_171006AV_RGEECCAopenNoFF', 'EMEP0302_rv4_30.2016.Aeolus', 'EMEP_Reporting_2016_rv4.9', 'EMEP_rv4.8os_171006AV_RGEECCAopenFF', 'EMEP01_L20EC_rv4_17a', 'EMEP_rv4.10_170526AV_RGbmOpenSource', 'EMEP_rv48_NAMALL', 'EMEP_rv48_NAFALL', 'EMEP_rv48_MDEALL', 'EMEP_rv48_CH4INC', 'EMEP_rv48_EASALL', 'EMEP_rv48_BASE', 'EMEP_rv4.5_BASE', 'EMEP_rv48_SASALL', 'EMEP_rv48_OCNALL', 'EMEP_rv48_RBUALL', 'EMEP_rv48_GLOALL', 'EMEP_rv48_EURALL', 'EMEP_BASE_rv4_3273', 'EMEP_rv4_33_Glob-CTRL']\n",
      "\n",
      "To receive more detailed information, please specify search ID more accurately\n"
     ]
    }
   ],
   "source": [
    "pya.browse_database('EMEP*v4*')"
   ]
  }
 ],
 "metadata": {
  "kernelspec": {
   "display_name": "Python 3",
   "language": "python",
   "name": "python3"
  },
  "language_info": {
   "codemirror_mode": {
    "name": "ipython",
    "version": 3
   },
   "file_extension": ".py",
   "mimetype": "text/x-python",
   "name": "python",
   "nbconvert_exporter": "python",
   "pygments_lexer": "ipython3",
   "version": "3.7.6"
  }
 },
 "nbformat": 4,
 "nbformat_minor": 4
}
